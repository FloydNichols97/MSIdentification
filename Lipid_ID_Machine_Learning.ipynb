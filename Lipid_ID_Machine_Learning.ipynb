{
  "nbformat": 4,
  "nbformat_minor": 0,
  "metadata": {
    "colab": {
      "provenance": [],
      "collapsed_sections": [],
      "include_colab_link": true
    },
    "kernelspec": {
      "name": "python3",
      "display_name": "Python 3"
    },
    "language_info": {
      "name": "python"
    }
  },
  "cells": [
    {
      "cell_type": "markdown",
      "metadata": {
        "id": "view-in-github",
        "colab_type": "text"
      },
      "source": [
        "<a href=\"https://colab.research.google.com/github/FloydNichols97/MSIdentification/blob/main/Lipid_ID_Machine_Learning.ipynb\" target=\"_parent\"><img src=\"https://colab.research.google.com/assets/colab-badge.svg\" alt=\"Open In Colab\"/></a>"
      ]
    },
    {
      "cell_type": "markdown",
      "source": [
        "LOAD NECESSARY LIBRARIES"
      ],
      "metadata": {
        "id": "sK7UdU3yPGVU"
      }
    },
    {
      "cell_type": "code",
      "execution_count": null,
      "metadata": {
        "id": "XC3Uf2oVON_g"
      },
      "outputs": [],
      "source": [
        "import pandas as pd\n",
        "import matplotlib.pyplot as plt\n",
        "import numpy as np\n",
        "from numpy import mean\n",
        "from numpy import std\n",
        "from sklearn.ensemble import RandomForestClassifier\n",
        "from sklearn import svm\n",
        "from sklearn.neighbors import KNeighborsClassifier\n",
        "from sklearn.decomposition import PCA\n",
        "from sklearn.model_selection import train_test_split\n",
        "from sklearn.model_selection import cross_val_score\n",
        "from sklearn.model_selection import RepeatedStratifiedKFold\n",
        "from sklearn.ensemble import VotingClassifier\n",
        "from sklearn.model_selection import GridSearchCV\n",
        "from sklearn.metrics import accuracy_score, confusion_matrix, classification_report\n",
        "import seaborn as sns"
      ]
    },
    {
      "cell_type": "markdown",
      "source": [
        "IMPORT DATA SET FROM GITHUB"
      ],
      "metadata": {
        "id": "H9dfNPOHSAqa"
      }
    },
    {
      "cell_type": "code",
      "source": [
        "url = 'https://raw.githubusercontent.com/FloydNichols97/MSIdentification/main/FAMEs_Mass_Training_Set.csv'\n",
        "MS_data = pd.read_csv(url)\n",
        "MS_data.head()"
      ],
      "metadata": {
        "colab": {
          "base_uri": "https://localhost:8080/",
          "height": 236
        },
        "id": "CIe3IXwnPNAk",
        "outputId": "c031e827-c49b-496a-9c74-c61c8c03a3a1"
      },
      "execution_count": null,
      "outputs": [
        {
          "output_type": "execute_result",
          "data": {
            "text/plain": [
              "  Compound     RT      60      61     62     63     64      65      66  \\\n",
              "0  n-C16:0  12.55  166456  111264   9904  20101   9461  268601  141836   \n",
              "1  n-C16:0  12.55  443593  350092  29569  69209  30465  805658  448404   \n",
              "2  n-C16:0  12.55  424158  328017  28338  58854  28103  776950  389777   \n",
              "3  n-C16:0  12.55  348204  253124  21017  52707  20554  597177  333413   \n",
              "4  n-C16:0  12.56  429824  330468  22952  59045  34661  745882  399085   \n",
              "\n",
              "        67  ...  591  592  593  594  595  596  597  598  599  600  \n",
              "0  2439650  ...   92    0    5    0    0    0   68    0    0    0  \n",
              "1  7238119  ...    0   66   29    1    3  117   15  121  143    0  \n",
              "2  6713554  ...    0   50    0    0  154    0   44    0   38    0  \n",
              "3  5324926  ...   47    0   54    3   61   12    7   83    0    0  \n",
              "4  6639407  ...   94    1   76    0  181   14    0  125    4  164  \n",
              "\n",
              "[5 rows x 543 columns]"
            ],
            "text/html": [
              "\n",
              "  <div id=\"df-2baf0e1e-424a-4e3b-b879-219bfd98a102\">\n",
              "    <div class=\"colab-df-container\">\n",
              "      <div>\n",
              "<style scoped>\n",
              "    .dataframe tbody tr th:only-of-type {\n",
              "        vertical-align: middle;\n",
              "    }\n",
              "\n",
              "    .dataframe tbody tr th {\n",
              "        vertical-align: top;\n",
              "    }\n",
              "\n",
              "    .dataframe thead th {\n",
              "        text-align: right;\n",
              "    }\n",
              "</style>\n",
              "<table border=\"1\" class=\"dataframe\">\n",
              "  <thead>\n",
              "    <tr style=\"text-align: right;\">\n",
              "      <th></th>\n",
              "      <th>Compound</th>\n",
              "      <th>RT</th>\n",
              "      <th>60</th>\n",
              "      <th>61</th>\n",
              "      <th>62</th>\n",
              "      <th>63</th>\n",
              "      <th>64</th>\n",
              "      <th>65</th>\n",
              "      <th>66</th>\n",
              "      <th>67</th>\n",
              "      <th>...</th>\n",
              "      <th>591</th>\n",
              "      <th>592</th>\n",
              "      <th>593</th>\n",
              "      <th>594</th>\n",
              "      <th>595</th>\n",
              "      <th>596</th>\n",
              "      <th>597</th>\n",
              "      <th>598</th>\n",
              "      <th>599</th>\n",
              "      <th>600</th>\n",
              "    </tr>\n",
              "  </thead>\n",
              "  <tbody>\n",
              "    <tr>\n",
              "      <th>0</th>\n",
              "      <td>n-C16:0</td>\n",
              "      <td>12.55</td>\n",
              "      <td>166456</td>\n",
              "      <td>111264</td>\n",
              "      <td>9904</td>\n",
              "      <td>20101</td>\n",
              "      <td>9461</td>\n",
              "      <td>268601</td>\n",
              "      <td>141836</td>\n",
              "      <td>2439650</td>\n",
              "      <td>...</td>\n",
              "      <td>92</td>\n",
              "      <td>0</td>\n",
              "      <td>5</td>\n",
              "      <td>0</td>\n",
              "      <td>0</td>\n",
              "      <td>0</td>\n",
              "      <td>68</td>\n",
              "      <td>0</td>\n",
              "      <td>0</td>\n",
              "      <td>0</td>\n",
              "    </tr>\n",
              "    <tr>\n",
              "      <th>1</th>\n",
              "      <td>n-C16:0</td>\n",
              "      <td>12.55</td>\n",
              "      <td>443593</td>\n",
              "      <td>350092</td>\n",
              "      <td>29569</td>\n",
              "      <td>69209</td>\n",
              "      <td>30465</td>\n",
              "      <td>805658</td>\n",
              "      <td>448404</td>\n",
              "      <td>7238119</td>\n",
              "      <td>...</td>\n",
              "      <td>0</td>\n",
              "      <td>66</td>\n",
              "      <td>29</td>\n",
              "      <td>1</td>\n",
              "      <td>3</td>\n",
              "      <td>117</td>\n",
              "      <td>15</td>\n",
              "      <td>121</td>\n",
              "      <td>143</td>\n",
              "      <td>0</td>\n",
              "    </tr>\n",
              "    <tr>\n",
              "      <th>2</th>\n",
              "      <td>n-C16:0</td>\n",
              "      <td>12.55</td>\n",
              "      <td>424158</td>\n",
              "      <td>328017</td>\n",
              "      <td>28338</td>\n",
              "      <td>58854</td>\n",
              "      <td>28103</td>\n",
              "      <td>776950</td>\n",
              "      <td>389777</td>\n",
              "      <td>6713554</td>\n",
              "      <td>...</td>\n",
              "      <td>0</td>\n",
              "      <td>50</td>\n",
              "      <td>0</td>\n",
              "      <td>0</td>\n",
              "      <td>154</td>\n",
              "      <td>0</td>\n",
              "      <td>44</td>\n",
              "      <td>0</td>\n",
              "      <td>38</td>\n",
              "      <td>0</td>\n",
              "    </tr>\n",
              "    <tr>\n",
              "      <th>3</th>\n",
              "      <td>n-C16:0</td>\n",
              "      <td>12.55</td>\n",
              "      <td>348204</td>\n",
              "      <td>253124</td>\n",
              "      <td>21017</td>\n",
              "      <td>52707</td>\n",
              "      <td>20554</td>\n",
              "      <td>597177</td>\n",
              "      <td>333413</td>\n",
              "      <td>5324926</td>\n",
              "      <td>...</td>\n",
              "      <td>47</td>\n",
              "      <td>0</td>\n",
              "      <td>54</td>\n",
              "      <td>3</td>\n",
              "      <td>61</td>\n",
              "      <td>12</td>\n",
              "      <td>7</td>\n",
              "      <td>83</td>\n",
              "      <td>0</td>\n",
              "      <td>0</td>\n",
              "    </tr>\n",
              "    <tr>\n",
              "      <th>4</th>\n",
              "      <td>n-C16:0</td>\n",
              "      <td>12.56</td>\n",
              "      <td>429824</td>\n",
              "      <td>330468</td>\n",
              "      <td>22952</td>\n",
              "      <td>59045</td>\n",
              "      <td>34661</td>\n",
              "      <td>745882</td>\n",
              "      <td>399085</td>\n",
              "      <td>6639407</td>\n",
              "      <td>...</td>\n",
              "      <td>94</td>\n",
              "      <td>1</td>\n",
              "      <td>76</td>\n",
              "      <td>0</td>\n",
              "      <td>181</td>\n",
              "      <td>14</td>\n",
              "      <td>0</td>\n",
              "      <td>125</td>\n",
              "      <td>4</td>\n",
              "      <td>164</td>\n",
              "    </tr>\n",
              "  </tbody>\n",
              "</table>\n",
              "<p>5 rows × 543 columns</p>\n",
              "</div>\n",
              "      <button class=\"colab-df-convert\" onclick=\"convertToInteractive('df-2baf0e1e-424a-4e3b-b879-219bfd98a102')\"\n",
              "              title=\"Convert this dataframe to an interactive table.\"\n",
              "              style=\"display:none;\">\n",
              "        \n",
              "  <svg xmlns=\"http://www.w3.org/2000/svg\" height=\"24px\"viewBox=\"0 0 24 24\"\n",
              "       width=\"24px\">\n",
              "    <path d=\"M0 0h24v24H0V0z\" fill=\"none\"/>\n",
              "    <path d=\"M18.56 5.44l.94 2.06.94-2.06 2.06-.94-2.06-.94-.94-2.06-.94 2.06-2.06.94zm-11 1L8.5 8.5l.94-2.06 2.06-.94-2.06-.94L8.5 2.5l-.94 2.06-2.06.94zm10 10l.94 2.06.94-2.06 2.06-.94-2.06-.94-.94-2.06-.94 2.06-2.06.94z\"/><path d=\"M17.41 7.96l-1.37-1.37c-.4-.4-.92-.59-1.43-.59-.52 0-1.04.2-1.43.59L10.3 9.45l-7.72 7.72c-.78.78-.78 2.05 0 2.83L4 21.41c.39.39.9.59 1.41.59.51 0 1.02-.2 1.41-.59l7.78-7.78 2.81-2.81c.8-.78.8-2.07 0-2.86zM5.41 20L4 18.59l7.72-7.72 1.47 1.35L5.41 20z\"/>\n",
              "  </svg>\n",
              "      </button>\n",
              "      \n",
              "  <style>\n",
              "    .colab-df-container {\n",
              "      display:flex;\n",
              "      flex-wrap:wrap;\n",
              "      gap: 12px;\n",
              "    }\n",
              "\n",
              "    .colab-df-convert {\n",
              "      background-color: #E8F0FE;\n",
              "      border: none;\n",
              "      border-radius: 50%;\n",
              "      cursor: pointer;\n",
              "      display: none;\n",
              "      fill: #1967D2;\n",
              "      height: 32px;\n",
              "      padding: 0 0 0 0;\n",
              "      width: 32px;\n",
              "    }\n",
              "\n",
              "    .colab-df-convert:hover {\n",
              "      background-color: #E2EBFA;\n",
              "      box-shadow: 0px 1px 2px rgba(60, 64, 67, 0.3), 0px 1px 3px 1px rgba(60, 64, 67, 0.15);\n",
              "      fill: #174EA6;\n",
              "    }\n",
              "\n",
              "    [theme=dark] .colab-df-convert {\n",
              "      background-color: #3B4455;\n",
              "      fill: #D2E3FC;\n",
              "    }\n",
              "\n",
              "    [theme=dark] .colab-df-convert:hover {\n",
              "      background-color: #434B5C;\n",
              "      box-shadow: 0px 1px 3px 1px rgba(0, 0, 0, 0.15);\n",
              "      filter: drop-shadow(0px 1px 2px rgba(0, 0, 0, 0.3));\n",
              "      fill: #FFFFFF;\n",
              "    }\n",
              "  </style>\n",
              "\n",
              "      <script>\n",
              "        const buttonEl =\n",
              "          document.querySelector('#df-2baf0e1e-424a-4e3b-b879-219bfd98a102 button.colab-df-convert');\n",
              "        buttonEl.style.display =\n",
              "          google.colab.kernel.accessAllowed ? 'block' : 'none';\n",
              "\n",
              "        async function convertToInteractive(key) {\n",
              "          const element = document.querySelector('#df-2baf0e1e-424a-4e3b-b879-219bfd98a102');\n",
              "          const dataTable =\n",
              "            await google.colab.kernel.invokeFunction('convertToInteractive',\n",
              "                                                     [key], {});\n",
              "          if (!dataTable) return;\n",
              "\n",
              "          const docLinkHtml = 'Like what you see? Visit the ' +\n",
              "            '<a target=\"_blank\" href=https://colab.research.google.com/notebooks/data_table.ipynb>data table notebook</a>'\n",
              "            + ' to learn more about interactive tables.';\n",
              "          element.innerHTML = '';\n",
              "          dataTable['output_type'] = 'display_data';\n",
              "          await google.colab.output.renderOutput(dataTable, element);\n",
              "          const docLink = document.createElement('div');\n",
              "          docLink.innerHTML = docLinkHtml;\n",
              "          element.appendChild(docLink);\n",
              "        }\n",
              "      </script>\n",
              "    </div>\n",
              "  </div>\n",
              "  "
            ]
          },
          "metadata": {},
          "execution_count": 14
        }
      ]
    },
    {
      "cell_type": "markdown",
      "source": [
        "Partition data frame into testing set and training set"
      ],
      "metadata": {
        "id": "PUVgB5_3SQZY"
      }
    },
    {
      "cell_type": "code",
      "source": [
        "X = MS_data.drop(columns=['Compound'])\n",
        "y = MS_data['Compound']\n",
        "X_train, X_test, y_train, y_test = train_test_split(X, y, test_size=0.25)"
      ],
      "metadata": {
        "id": "n7lkkG7sSFHm"
      },
      "execution_count": null,
      "outputs": []
    },
    {
      "cell_type": "markdown",
      "source": [
        "CREATE MODELS "
      ],
      "metadata": {
        "id": "eM_XejDTSgil"
      }
    },
    {
      "cell_type": "code",
      "source": [
        "# Random Forest Classifier\n",
        "RF_model = RandomForestClassifier(n_estimators=541, bootstrap=True)\n",
        "RF_model.fit(X_train, y_train)\n",
        "RF_predictions = RF_model.predict(X_test)\n",
        "RF_cv = RepeatedStratifiedKFold(n_splits=10, n_repeats=3, random_state=1)\n",
        "RF_scores = cross_val_score(RF_model, X, y, scoring='accuracy', cv=RF_cv, n_jobs=-1, error_score='raise')\n",
        "print('Accuracy: %.3f (%.3f)' % ((mean(RF_scores), std(RF_scores))))"
      ],
      "metadata": {
        "colab": {
          "base_uri": "https://localhost:8080/"
        },
        "id": "-fT8AhXlSkoG",
        "outputId": "8add1f96-68a4-4840-c98f-de94581be874"
      },
      "execution_count": null,
      "outputs": [
        {
          "output_type": "stream",
          "name": "stderr",
          "text": [
            "/usr/local/lib/python3.7/dist-packages/sklearn/model_selection/_split.py:680: UserWarning: The least populated class in y has only 1 members, which is less than n_splits=10.\n",
            "  UserWarning,\n",
            "/usr/local/lib/python3.7/dist-packages/sklearn/model_selection/_split.py:680: UserWarning: The least populated class in y has only 1 members, which is less than n_splits=10.\n",
            "  UserWarning,\n",
            "/usr/local/lib/python3.7/dist-packages/sklearn/model_selection/_split.py:680: UserWarning: The least populated class in y has only 1 members, which is less than n_splits=10.\n",
            "  UserWarning,\n"
          ]
        },
        {
          "output_type": "stream",
          "name": "stdout",
          "text": [
            "Accuracy: 0.896 (0.078)\n"
          ]
        }
      ]
    },
    {
      "cell_type": "markdown",
      "source": [
        "CREATE CONFUSION MATRIX"
      ],
      "metadata": {
        "id": "FMbVsRi77R6t"
      }
    },
    {
      "cell_type": "code",
      "source": [
        "RF_confusion = confusion_matrix(y_test, RF_predictions)\n",
        "\n",
        "# Get and reshape confusion matrix data\n",
        "matrix = confusion_matrix(y_test, RF_predictions)\n",
        "matrix = matrix.astype('float') / matrix.sum(axis=1)[:, np.newaxis]\n",
        "\n",
        "# Build the plot\n",
        "plt.figure(figsize=(16,7))\n",
        "sns.set(font_scale=1.4)\n",
        "sns.heatmap(matrix, annot=True, annot_kws={'size':10},\n",
        "            cmap=plt.cm.Greens, linewidths=0.2)\n",
        "\n",
        "# Add labels to the plot\n",
        "class_names = []\n",
        "tick_marks = np.arange(len(class_names))\n",
        "tick_marks2 = tick_marks + 0.5\n",
        "plt.xticks(tick_marks, class_names, rotation=25)\n",
        "plt.yticks(tick_marks2, class_names, rotation=0)\n",
        "plt.xlabel('Predicted label')\n",
        "plt.ylabel('True label')\n",
        "plt.title('Confusion Matrix for Random Forest Model')\n",
        "plt.show()"
      ],
      "metadata": {
        "colab": {
          "base_uri": "https://localhost:8080/",
          "height": 453
        },
        "id": "yiw1P9LD6ANO",
        "outputId": "f4120e43-6ec6-4562-94e4-73c145a91c64"
      },
      "execution_count": null,
      "outputs": [
        {
          "output_type": "display_data",
          "data": {
            "text/plain": [
              "<Figure size 1152x504 with 2 Axes>"
            ],
            "image/png": "[encoded data removed]"
          },
          "metadata": {}
        }
      ]
    },
    {
      "cell_type": "markdown",
      "source": [
        "CLASSIFICATION REPORT"
      ],
      "metadata": {
        "id": "MH4gnuex9rCo"
      }
    },
    {
      "cell_type": "code",
      "source": [
        "print(classification_report(y_test, RF_predictions))"
      ],
      "metadata": {
        "colab": {
          "base_uri": "https://localhost:8080/"
        },
        "id": "P9VuAkY99u1r",
        "outputId": "6e36ae83-bee3-40a9-9759-b631f2f75fda"
      },
      "execution_count": null,
      "outputs": [
        {
          "output_type": "stream",
          "name": "stdout",
          "text": [
            "              precision    recall  f1-score   support\n",
            "\n",
            "       C18:1       1.00      0.67      0.80         3\n",
            "       C19:1       1.00      1.00      1.00         1\n",
            "       PAIBE       0.67      1.00      0.80         2\n",
            "     a-C15:0       1.00      0.25      0.40         4\n",
            "    cy-C17:0       0.50      1.00      0.67         1\n",
            "     i-C15:0       0.60      0.75      0.67         4\n",
            "     i-C16:0       0.00      0.00      0.00         1\n",
            "     n-C12:0       1.00      1.00      1.00         1\n",
            "     n-C13:0       0.50      1.00      0.67         1\n",
            "     n-C14:0       1.00      1.00      1.00         4\n",
            "     n-C15:0       0.75      0.75      0.75         4\n",
            "     n-C16:0       1.00      1.00      1.00         4\n",
            "     n-C17:0       1.00      1.00      1.00         2\n",
            "     n-C18:0       1.00      1.00      1.00         1\n",
            "     n-C19:0       0.50      1.00      0.67         1\n",
            "     n-C20:0       1.00      1.00      1.00         3\n",
            "     n-C22:0       1.00      1.00      1.00         5\n",
            "     n-C24:0       1.00      1.00      1.00         3\n",
            "     n-C26:0       1.00      1.00      1.00         3\n",
            "     n-C28:0       1.00      1.00      1.00         2\n",
            "     n-C30:0       1.00      1.00      1.00         2\n",
            "\n",
            "    accuracy                           0.87        52\n",
            "   macro avg       0.83      0.88      0.83        52\n",
            "weighted avg       0.89      0.87      0.85        52\n",
            "\n"
          ]
        },
        {
          "output_type": "stream",
          "name": "stderr",
          "text": [
            "/usr/local/lib/python3.7/dist-packages/sklearn/metrics/_classification.py:1318: UndefinedMetricWarning: Precision and F-score are ill-defined and being set to 0.0 in labels with no predicted samples. Use `zero_division` parameter to control this behavior.\n",
            "  _warn_prf(average, modifier, msg_start, len(result))\n",
            "/usr/local/lib/python3.7/dist-packages/sklearn/metrics/_classification.py:1318: UndefinedMetricWarning: Precision and F-score are ill-defined and being set to 0.0 in labels with no predicted samples. Use `zero_division` parameter to control this behavior.\n",
            "  _warn_prf(average, modifier, msg_start, len(result))\n",
            "/usr/local/lib/python3.7/dist-packages/sklearn/metrics/_classification.py:1318: UndefinedMetricWarning: Precision and F-score are ill-defined and being set to 0.0 in labels with no predicted samples. Use `zero_division` parameter to control this behavior.\n",
            "  _warn_prf(average, modifier, msg_start, len(result))\n"
          ]
        }
      ]
    },
    {
      "cell_type": "code",
      "source": [
        "# Support Vector Machine\n",
        "SVM_model = svm.SVC(kernel='rbf', C=1, gamma='scale')\n",
        "SVM_model.fit(X_train, y_train)\n",
        "SVM_predictions = RF_model.predict(X_test)\n",
        "SVM_cv = RepeatedStratifiedKFold(n_splits=10, n_repeats=3, random_state=1)\n",
        "SVM_scores = cross_val_score(SVM_model, X, y, scoring='accuracy', cv=SVM_cv, n_jobs=-1, error_score='raise')\n",
        "print('Accuracy: %.3f (%.3f)' % ((mean(SVM_scores), std(SVM_scores))))"
      ],
      "metadata": {
        "colab": {
          "base_uri": "https://localhost:8080/"
        },
        "id": "ODcYFhVlStwe",
        "outputId": "a612f084-e5e9-457e-99f6-c8e4e58f42c0"
      },
      "execution_count": null,
      "outputs": [
        {
          "output_type": "stream",
          "name": "stderr",
          "text": [
            "/usr/local/lib/python3.7/dist-packages/sklearn/model_selection/_split.py:680: UserWarning: The least populated class in y has only 1 members, which is less than n_splits=10.\n",
            "  UserWarning,\n",
            "/usr/local/lib/python3.7/dist-packages/sklearn/model_selection/_split.py:680: UserWarning: The least populated class in y has only 1 members, which is less than n_splits=10.\n",
            "  UserWarning,\n",
            "/usr/local/lib/python3.7/dist-packages/sklearn/model_selection/_split.py:680: UserWarning: The least populated class in y has only 1 members, which is less than n_splits=10.\n",
            "  UserWarning,\n"
          ]
        },
        {
          "output_type": "stream",
          "name": "stdout",
          "text": [
            "Accuracy: 0.110 (0.060)\n"
          ]
        }
      ]
    },
    {
      "cell_type": "code",
      "source": [
        "# k Nearest-Neighbor\n",
        "kNN_model = KNeighborsClassifier(n_neighbors=1, weights='distance')\n",
        "kNN_model.fit(X_train, y_train)\n",
        "kNN_predictions = kNN_model.predict(X_test)\n",
        "kNN_cv = RepeatedStratifiedKFold(n_splits=10, n_repeats=3, random_state=1)\n",
        "kNN_scores = cross_val_score(kNN_model, X, y, scoring='accuracy', cv=kNN_cv, n_jobs=-1, error_score='raise')\n",
        "print('Accuracy: %.3f (%.3f)' % ((mean(kNN_scores), std(kNN_scores))))"
      ],
      "metadata": {
        "colab": {
          "base_uri": "https://localhost:8080/"
        },
        "id": "cdKe6bG9SxJB",
        "outputId": "f37c04c4-017c-4ac9-c518-3cfa90b7df0a"
      },
      "execution_count": null,
      "outputs": [
        {
          "output_type": "stream",
          "name": "stderr",
          "text": [
            "/usr/local/lib/python3.7/dist-packages/sklearn/model_selection/_split.py:680: UserWarning: The least populated class in y has only 1 members, which is less than n_splits=10.\n",
            "  UserWarning,\n",
            "/usr/local/lib/python3.7/dist-packages/sklearn/model_selection/_split.py:680: UserWarning: The least populated class in y has only 1 members, which is less than n_splits=10.\n",
            "  UserWarning,\n",
            "/usr/local/lib/python3.7/dist-packages/sklearn/model_selection/_split.py:680: UserWarning: The least populated class in y has only 1 members, which is less than n_splits=10.\n",
            "  UserWarning,\n"
          ]
        },
        {
          "output_type": "stream",
          "name": "stdout",
          "text": [
            "Accuracy: 0.627 (0.115)\n"
          ]
        }
      ]
    },
    {
      "cell_type": "code",
      "source": [
        "# Ensemble Model\n",
        "estimators = [('RF', RF_model), ('kNN', kNN_model), ('SVM', SVM_model)]\n",
        "ensemble = VotingClassifier(estimators, voting='hard')\n",
        "ensemble.fit(X_train, y_train)\n",
        "ensemble_cv = RepeatedStratifiedKFold(n_splits=10, n_repeats=3, random_state=1)\n",
        "ensemble_scores = cross_val_score(ensemble, X, y, scoring='accuracy', cv=ensemble_cv, n_jobs=-1, error_score='raise')\n",
        "print('Accuracy: %.3f (%.3f)' % ((mean(ensemble_scores), std(ensemble_scores))))\n",
        "ensemble.score(X_test, y_test)"
      ],
      "metadata": {
        "colab": {
          "base_uri": "https://localhost:8080/"
        },
        "id": "WEQeXaElS0Jt",
        "outputId": "758562f0-691e-4b5b-9918-66d9ae51efc1"
      },
      "execution_count": null,
      "outputs": [
        {
          "output_type": "stream",
          "name": "stderr",
          "text": [
            "/usr/local/lib/python3.7/dist-packages/sklearn/model_selection/_split.py:680: UserWarning: The least populated class in y has only 1 members, which is less than n_splits=10.\n",
            "  UserWarning,\n",
            "/usr/local/lib/python3.7/dist-packages/sklearn/model_selection/_split.py:680: UserWarning: The least populated class in y has only 1 members, which is less than n_splits=10.\n",
            "  UserWarning,\n",
            "/usr/local/lib/python3.7/dist-packages/sklearn/model_selection/_split.py:680: UserWarning: The least populated class in y has only 1 members, which is less than n_splits=10.\n",
            "  UserWarning,\n"
          ]
        },
        {
          "output_type": "stream",
          "name": "stdout",
          "text": [
            "Accuracy: 0.677 (0.101)\n"
          ]
        },
        {
          "output_type": "execute_result",
          "data": {
            "text/plain": [
              "0.6538461538461539"
            ]
          },
          "metadata": {},
          "execution_count": 7
        }
      ]
    },
    {
      "cell_type": "code",
      "source": [
        "# Real Data Predictions\n",
        "url2 = 'https://raw.githubusercontent.com/FloydNichols97/MSIdentification/main/Unknown_FAMEs.csv'\n",
        "Sample = pd.read_csv(url2)\n",
        "Sample = Sample.drop(columns=['Compound'])\n",
        "predict = RF_model.predict(Sample) # Computes predicted lipid componds \n",
        "print(predict) # Prints predicted compounds based on the Random Forest Classifier "
      ],
      "metadata": {
        "colab": {
          "base_uri": "https://localhost:8080/"
        },
        "id": "KSE8__peS9jp",
        "outputId": "34e9dedd-2668-45f9-b7f3-092c674187ea"
      },
      "execution_count": null,
      "outputs": [
        {
          "output_type": "stream",
          "name": "stdout",
          "text": [
            "['n-C16:0' 'C18:1' 'n-C16:0' 'n-C18:0']\n"
          ]
        }
      ]
    },
    {
      "cell_type": "code",
      "source": [
        "url3 = 'https://raw.githubusercontent.com/FloydNichols97/MSIdentification/main/fame_training_set_cleaned_wide.csv'\n",
        "Sample2 = pd.read_csv(url3)\n",
        "Sample2 = Sample2.drop(columns=['compound'])\n",
        "predict2 = RF_model.predict(Sample2) # Computes predicted lipid compounds \n",
        "print(predict2) # Prints predicted compounds based on the Random Forest Classifier "
      ],
      "metadata": {
        "colab": {
          "base_uri": "https://localhost:8080/"
        },
        "id": "Be-RK236TPS2",
        "outputId": "9c75536c-455e-429b-909e-cf86e97769b2"
      },
      "execution_count": null,
      "outputs": [
        {
          "output_type": "stream",
          "name": "stdout",
          "text": [
            "['n-C17:0 ' 'i-C16:0 ' 'i-C16:0 ' 'C16:1' 'i-C16:0 ' 'n-C13:0' 'i-C16:0 '\n",
            " 'C16:1' 'C18:1' 'n-C17:0 ' 'n-C17:0 ' 'C16:1' 'i-C16:0 ' 'n-C19:0 '\n",
            " 'C16:1' 'PAIBE']\n"
          ]
        }
      ]
    }
  ]
}